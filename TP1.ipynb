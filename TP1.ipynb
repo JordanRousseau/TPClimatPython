{
 "cells": [
  {
   "cell_type": "markdown",
   "metadata": {
    "id": "cDUt9q1z1HV-"
   },
   "source": [
    "**TP1**"
   ]
  },
  {
   "cell_type": "markdown",
   "metadata": {
    "id": "psFZPNuz1Bw8"
   },
   "source": [
    "Comparer\tdeux\tjeux\tde\tdonnées\tde\tclimat\tpour\tdéterminer\tla\tcapitale\teuropéenne\tdont\tles\tdonnées\tde température\tsont\tfournies\tdans\tle\tfichier Climat.xlsx\t\n",
    "\n",
    "On\tse\tservira\tdu\tfichier\tSavukoskikirkonkyla.xlsx\tissu\tde\tl’open\tdata\tpour\tservir\tde\tréférence.\t\n",
    "\n",
    "Objectifs\t:\t\t\n",
    "• Mettre\ten\toeuvre\tun\tenvironnement\tde\ttraitement\tgraphique\tde\tdonnées\tissues\tde\tsources\tplus\tou\t\n",
    "moins\tfiables.\t\n",
    "• Corriger\tun\tjeu\tde\tdonnées\tmal\tformé\t\n",
    "• proposer\tun\tcandidat\tpotentiel\tpour\tl’origine\tdes\tdonnées.\t\n"
   ]
  },
  {
   "cell_type": "markdown",
   "metadata": {
    "id": "EfCgP51A1h4i"
   },
   "source": [
    "Déroulement:\t\n",
    "• Pour\tl’\téchantillon\tSI,\tcalculez\t:\t\n",
    "  • moyenne\t par\tmois\t\n",
    "  • écart\ttype\t par\tmois\t\n",
    "  • min\t/max\t par\tmois\tet\tpar\tannée\t\n",
    "  • uliser\tpar\t\tPython\tScipy\tpour\tles\tpares\tmathémaques.\t\n",
    "• tracer\tles\tcourbes\tde\tchaque\tmois\tavec\tune\tbibliothèque\tgraphique\tpython\tMatplotlib,\t12\tvues\tmensuelles\t\n",
    "• Assembler\tles\tcourbes\tsur\tun\tseul\tgraphique\t(J1\t->\tJ365)\t\t:\tvue\tannuelle\t\n",
    "• Présenter\tla\tvaleur\tlue\ten\tparcourant\tla\tcourbe\tà\tl'aide\tdu\tpointeur,\t\t\n",
    "• Présenter\tles\tvaleurs\tprécédentes\tpar\tmois glissant\tde\t30\tjours centré sur\tla\tvaleur\tlue\t\n",
    "• Recommencez\tavec\tle\tjeu\tSI-erreur\taprès\tavoir\tcorrigé\tles\tvaleurs\ten\terreur.\tPrécisez vos méthodes.\t\n",
    "• Les\tdonnées\tcorrigées\tsont\telles\tproches\tdes\tvaleurs\tsans\terreur\t?\t\n",
    "• A\tparr\tde\tdonnées\topendata\tdu\tsecond\tfichier,\tretrouver\tle\ttype\tde\tclimat\t\t\n",
    "• reprendre\tles\tdonnées\ttypiques\tde\tla\tlocalisaon\tproche\t\tfournies\ten\tcomplément\t,\tcomparer\tles\técarts.\t\t\n",
    "• Qu'en\tconcluez\tvous\t?\t\t\n",
    "• De\tquelle\tla\tcapitale\teuropéenne\tavez\tvous\t\teu\tles\tdonnées\t.\t\n",
    "Outils\t\t:\tà\tutiliser\tPython\t+\tmatplotlib,\tJupyter\téventuellement.\tPas\tde\tR\tni\td’autre\tlangage\tautorisés\t\n",
    "Evaluation:\t\n",
    "Démonstration\tdes\tsolutions\ttechniques\tet\targumentation\tsur\tles\tméthodes\tutilisées"
   ]
  },
  {
   "cell_type": "code",
   "execution_count": 16,
   "metadata": {},
   "outputs": [],
   "source": [
    "%matplotlib widget\n",
    "import matplotlib as mpl\n",
    "import jupyter as jup\n",
    "import pandas as pd\n",
    "import mplcursors"
   ]
  },
  {
   "cell_type": "code",
   "execution_count": 17,
   "metadata": {
    "colab": {
     "base_uri": "https://localhost:8080/"
    },
    "id": "MRXVDSQ94EtN",
    "outputId": "7aba8de0-4b60-4bc2-bdcb-25154e35e0e7"
   },
   "outputs": [
    {
     "data": {
      "text/html": [
       "<div>\n",
       "<style scoped>\n",
       "    .dataframe tbody tr th:only-of-type {\n",
       "        vertical-align: middle;\n",
       "    }\n",
       "\n",
       "    .dataframe tbody tr th {\n",
       "        vertical-align: top;\n",
       "    }\n",
       "\n",
       "    .dataframe thead th {\n",
       "        text-align: right;\n",
       "    }\n",
       "</style>\n",
       "<table border=\"1\" class=\"dataframe\">\n",
       "  <thead>\n",
       "    <tr style=\"text-align: right;\">\n",
       "      <th></th>\n",
       "      <th>janvier</th>\n",
       "      <th>février</th>\n",
       "      <th>mars</th>\n",
       "      <th>avril</th>\n",
       "      <th>mai</th>\n",
       "      <th>juin</th>\n",
       "      <th>juillet</th>\n",
       "      <th>août</th>\n",
       "      <th>septembre</th>\n",
       "      <th>octobre</th>\n",
       "      <th>novembre</th>\n",
       "      <th>décembre</th>\n",
       "    </tr>\n",
       "  </thead>\n",
       "  <tbody>\n",
       "    <tr>\n",
       "      <th>0</th>\n",
       "      <td>-5</td>\n",
       "      <td>-7.0</td>\n",
       "      <td>-7</td>\n",
       "      <td>2.0</td>\n",
       "      <td>12</td>\n",
       "      <td>17.0</td>\n",
       "      <td>20</td>\n",
       "      <td>20</td>\n",
       "      <td>16.0</td>\n",
       "      <td>6</td>\n",
       "      <td>0.0</td>\n",
       "      <td>-6</td>\n",
       "    </tr>\n",
       "    <tr>\n",
       "      <th>1</th>\n",
       "      <td>-6</td>\n",
       "      <td>-6.0</td>\n",
       "      <td>-8</td>\n",
       "      <td>3.0</td>\n",
       "      <td>14</td>\n",
       "      <td>16.0</td>\n",
       "      <td>20</td>\n",
       "      <td>19</td>\n",
       "      <td>14.0</td>\n",
       "      <td>2</td>\n",
       "      <td>1.0</td>\n",
       "      <td>-4</td>\n",
       "    </tr>\n",
       "    <tr>\n",
       "      <th>2</th>\n",
       "      <td>-5</td>\n",
       "      <td>-5.0</td>\n",
       "      <td>-5</td>\n",
       "      <td>4.0</td>\n",
       "      <td>15</td>\n",
       "      <td>17.0</td>\n",
       "      <td>17</td>\n",
       "      <td>19</td>\n",
       "      <td>15.0</td>\n",
       "      <td>3</td>\n",
       "      <td>2.0</td>\n",
       "      <td>-8</td>\n",
       "    </tr>\n",
       "    <tr>\n",
       "      <th>3</th>\n",
       "      <td>-3</td>\n",
       "      <td>-6.0</td>\n",
       "      <td>-3</td>\n",
       "      <td>6.0</td>\n",
       "      <td>16</td>\n",
       "      <td>14.0</td>\n",
       "      <td>18</td>\n",
       "      <td>18</td>\n",
       "      <td>13.0</td>\n",
       "      <td>4</td>\n",
       "      <td>3.0</td>\n",
       "      <td>-9</td>\n",
       "    </tr>\n",
       "    <tr>\n",
       "      <th>4</th>\n",
       "      <td>-6</td>\n",
       "      <td>-8.0</td>\n",
       "      <td>-2</td>\n",
       "      <td>4.0</td>\n",
       "      <td>13</td>\n",
       "      <td>15.0</td>\n",
       "      <td>17</td>\n",
       "      <td>17</td>\n",
       "      <td>12.0</td>\n",
       "      <td>3</td>\n",
       "      <td>4.0</td>\n",
       "      <td>-9</td>\n",
       "    </tr>\n",
       "    <tr>\n",
       "      <th>5</th>\n",
       "      <td>-11</td>\n",
       "      <td>-9.0</td>\n",
       "      <td>1</td>\n",
       "      <td>5.0</td>\n",
       "      <td>12</td>\n",
       "      <td>17.0</td>\n",
       "      <td>17</td>\n",
       "      <td>18</td>\n",
       "      <td>10.0</td>\n",
       "      <td>2</td>\n",
       "      <td>3.0</td>\n",
       "      <td>-9</td>\n",
       "    </tr>\n",
       "    <tr>\n",
       "      <th>6</th>\n",
       "      <td>-6</td>\n",
       "      <td>5.0</td>\n",
       "      <td>2</td>\n",
       "      <td>4.0</td>\n",
       "      <td>8</td>\n",
       "      <td>17.0</td>\n",
       "      <td>16</td>\n",
       "      <td>16</td>\n",
       "      <td>12.0</td>\n",
       "      <td>4</td>\n",
       "      <td>4.0</td>\n",
       "      <td>-8</td>\n",
       "    </tr>\n",
       "    <tr>\n",
       "      <th>7</th>\n",
       "      <td>-8</td>\n",
       "      <td>-11.0</td>\n",
       "      <td>1</td>\n",
       "      <td>6.0</td>\n",
       "      <td>7</td>\n",
       "      <td>15.0</td>\n",
       "      <td>17</td>\n",
       "      <td>17</td>\n",
       "      <td>11.0</td>\n",
       "      <td>5</td>\n",
       "      <td>5.0</td>\n",
       "      <td>-4</td>\n",
       "    </tr>\n",
       "    <tr>\n",
       "      <th>8</th>\n",
       "      <td>-11</td>\n",
       "      <td>-12.0</td>\n",
       "      <td>1</td>\n",
       "      <td>7.0</td>\n",
       "      <td>6</td>\n",
       "      <td>14.0</td>\n",
       "      <td>17</td>\n",
       "      <td>15</td>\n",
       "      <td>11.0</td>\n",
       "      <td>3</td>\n",
       "      <td>5.0</td>\n",
       "      <td>-3</td>\n",
       "    </tr>\n",
       "    <tr>\n",
       "      <th>9</th>\n",
       "      <td>-8</td>\n",
       "      <td>-9.0</td>\n",
       "      <td>2</td>\n",
       "      <td>7.0</td>\n",
       "      <td>5</td>\n",
       "      <td>15.0</td>\n",
       "      <td>15</td>\n",
       "      <td>14</td>\n",
       "      <td>12.0</td>\n",
       "      <td>4</td>\n",
       "      <td>-1.0</td>\n",
       "      <td>-8</td>\n",
       "    </tr>\n",
       "    <tr>\n",
       "      <th>10</th>\n",
       "      <td>-8</td>\n",
       "      <td>-6.0</td>\n",
       "      <td>1</td>\n",
       "      <td>8.0</td>\n",
       "      <td>5</td>\n",
       "      <td>14.0</td>\n",
       "      <td>15</td>\n",
       "      <td>14</td>\n",
       "      <td>10.0</td>\n",
       "      <td>2</td>\n",
       "      <td>-2.0</td>\n",
       "      <td>-9</td>\n",
       "    </tr>\n",
       "    <tr>\n",
       "      <th>11</th>\n",
       "      <td>-8</td>\n",
       "      <td>-5.0</td>\n",
       "      <td>3</td>\n",
       "      <td>8.0</td>\n",
       "      <td>6</td>\n",
       "      <td>13.0</td>\n",
       "      <td>16</td>\n",
       "      <td>15</td>\n",
       "      <td>10.0</td>\n",
       "      <td>1</td>\n",
       "      <td>-1.0</td>\n",
       "      <td>-5</td>\n",
       "    </tr>\n",
       "    <tr>\n",
       "      <th>12</th>\n",
       "      <td>-8</td>\n",
       "      <td>-4.0</td>\n",
       "      <td>5</td>\n",
       "      <td>9.0</td>\n",
       "      <td>8</td>\n",
       "      <td>11.0</td>\n",
       "      <td>16</td>\n",
       "      <td>15</td>\n",
       "      <td>9.0</td>\n",
       "      <td>3</td>\n",
       "      <td>-7.0</td>\n",
       "      <td>-6</td>\n",
       "    </tr>\n",
       "    <tr>\n",
       "      <th>13</th>\n",
       "      <td>-10</td>\n",
       "      <td>1.0</td>\n",
       "      <td>5</td>\n",
       "      <td>10.0</td>\n",
       "      <td>10</td>\n",
       "      <td>14.0</td>\n",
       "      <td>13</td>\n",
       "      <td>15</td>\n",
       "      <td>9.0</td>\n",
       "      <td>3</td>\n",
       "      <td>-8.0</td>\n",
       "      <td>-7</td>\n",
       "    </tr>\n",
       "    <tr>\n",
       "      <th>14</th>\n",
       "      <td>-10</td>\n",
       "      <td>3.0</td>\n",
       "      <td>7</td>\n",
       "      <td>8.0</td>\n",
       "      <td>12</td>\n",
       "      <td>15.0</td>\n",
       "      <td>14</td>\n",
       "      <td>17</td>\n",
       "      <td>10.0</td>\n",
       "      <td>3</td>\n",
       "      <td>-5.0</td>\n",
       "      <td>-11</td>\n",
       "    </tr>\n",
       "    <tr>\n",
       "      <th>15</th>\n",
       "      <td>-9</td>\n",
       "      <td>-9.0</td>\n",
       "      <td>3</td>\n",
       "      <td>8.0</td>\n",
       "      <td>13</td>\n",
       "      <td>15.0</td>\n",
       "      <td>14</td>\n",
       "      <td>18</td>\n",
       "      <td>11.0</td>\n",
       "      <td>1</td>\n",
       "      <td>-3.0</td>\n",
       "      <td>-6</td>\n",
       "    </tr>\n",
       "    <tr>\n",
       "      <th>16</th>\n",
       "      <td>-6</td>\n",
       "      <td>-6.0</td>\n",
       "      <td>2</td>\n",
       "      <td>9.0</td>\n",
       "      <td>14</td>\n",
       "      <td>15.0</td>\n",
       "      <td>15</td>\n",
       "      <td>19</td>\n",
       "      <td>10.0</td>\n",
       "      <td>4</td>\n",
       "      <td>-2.0</td>\n",
       "      <td>-8</td>\n",
       "    </tr>\n",
       "    <tr>\n",
       "      <th>17</th>\n",
       "      <td>-6</td>\n",
       "      <td>-6.0</td>\n",
       "      <td>-1</td>\n",
       "      <td>11.0</td>\n",
       "      <td>13</td>\n",
       "      <td>17.0</td>\n",
       "      <td>15</td>\n",
       "      <td>21</td>\n",
       "      <td>10.0</td>\n",
       "      <td>6</td>\n",
       "      <td>1.0</td>\n",
       "      <td>-11</td>\n",
       "    </tr>\n",
       "    <tr>\n",
       "      <th>18</th>\n",
       "      <td>-4</td>\n",
       "      <td>-4.0</td>\n",
       "      <td>-2</td>\n",
       "      <td>10.0</td>\n",
       "      <td>15</td>\n",
       "      <td>16.0</td>\n",
       "      <td>15</td>\n",
       "      <td>24</td>\n",
       "      <td>9.0</td>\n",
       "      <td>6</td>\n",
       "      <td>2.0</td>\n",
       "      <td>-8</td>\n",
       "    </tr>\n",
       "    <tr>\n",
       "      <th>19</th>\n",
       "      <td>-8</td>\n",
       "      <td>2.0</td>\n",
       "      <td>-1</td>\n",
       "      <td>11.0</td>\n",
       "      <td>15</td>\n",
       "      <td>19.0</td>\n",
       "      <td>17</td>\n",
       "      <td>21</td>\n",
       "      <td>11.0</td>\n",
       "      <td>6</td>\n",
       "      <td>1.0</td>\n",
       "      <td>-8</td>\n",
       "    </tr>\n",
       "    <tr>\n",
       "      <th>20</th>\n",
       "      <td>-9</td>\n",
       "      <td>3.0</td>\n",
       "      <td>0</td>\n",
       "      <td>12.0</td>\n",
       "      <td>15</td>\n",
       "      <td>20.0</td>\n",
       "      <td>18</td>\n",
       "      <td>21</td>\n",
       "      <td>12.0</td>\n",
       "      <td>7</td>\n",
       "      <td>0.0</td>\n",
       "      <td>-3</td>\n",
       "    </tr>\n",
       "    <tr>\n",
       "      <th>21</th>\n",
       "      <td>-14</td>\n",
       "      <td>1.0</td>\n",
       "      <td>1</td>\n",
       "      <td>9.0</td>\n",
       "      <td>18</td>\n",
       "      <td>19.0</td>\n",
       "      <td>19</td>\n",
       "      <td>26</td>\n",
       "      <td>12.0</td>\n",
       "      <td>7</td>\n",
       "      <td>0.0</td>\n",
       "      <td>-6</td>\n",
       "    </tr>\n",
       "    <tr>\n",
       "      <th>22</th>\n",
       "      <td>-15</td>\n",
       "      <td>-3.0</td>\n",
       "      <td>2</td>\n",
       "      <td>7.0</td>\n",
       "      <td>18</td>\n",
       "      <td>20.0</td>\n",
       "      <td>21</td>\n",
       "      <td>17</td>\n",
       "      <td>10.0</td>\n",
       "      <td>6</td>\n",
       "      <td>1.0</td>\n",
       "      <td>-8</td>\n",
       "    </tr>\n",
       "    <tr>\n",
       "      <th>23</th>\n",
       "      <td>-17</td>\n",
       "      <td>-4.0</td>\n",
       "      <td>3</td>\n",
       "      <td>8.0</td>\n",
       "      <td>16</td>\n",
       "      <td>22.0</td>\n",
       "      <td>24</td>\n",
       "      <td>18</td>\n",
       "      <td>11.0</td>\n",
       "      <td>6</td>\n",
       "      <td>3.0</td>\n",
       "      <td>-9</td>\n",
       "    </tr>\n",
       "    <tr>\n",
       "      <th>24</th>\n",
       "      <td>-19</td>\n",
       "      <td>-6.0</td>\n",
       "      <td>4</td>\n",
       "      <td>8.0</td>\n",
       "      <td>15</td>\n",
       "      <td>22.0</td>\n",
       "      <td>23</td>\n",
       "      <td>17</td>\n",
       "      <td>10.0</td>\n",
       "      <td>6</td>\n",
       "      <td>5.0</td>\n",
       "      <td>-5</td>\n",
       "    </tr>\n",
       "    <tr>\n",
       "      <th>25</th>\n",
       "      <td>-23</td>\n",
       "      <td>-8.0</td>\n",
       "      <td>3</td>\n",
       "      <td>6.0</td>\n",
       "      <td>16</td>\n",
       "      <td>21.0</td>\n",
       "      <td>26</td>\n",
       "      <td>17</td>\n",
       "      <td>9.0</td>\n",
       "      <td>4</td>\n",
       "      <td>-2.0</td>\n",
       "      <td>-6</td>\n",
       "    </tr>\n",
       "    <tr>\n",
       "      <th>26</th>\n",
       "      <td>-8</td>\n",
       "      <td>-8.0</td>\n",
       "      <td>4</td>\n",
       "      <td>9.0</td>\n",
       "      <td>16</td>\n",
       "      <td>22.0</td>\n",
       "      <td>26</td>\n",
       "      <td>16</td>\n",
       "      <td>6.0</td>\n",
       "      <td>3</td>\n",
       "      <td>-3.0</td>\n",
       "      <td>-7</td>\n",
       "    </tr>\n",
       "    <tr>\n",
       "      <th>27</th>\n",
       "      <td>-9</td>\n",
       "      <td>-11.0</td>\n",
       "      <td>5</td>\n",
       "      <td>11.0</td>\n",
       "      <td>17</td>\n",
       "      <td>21.0</td>\n",
       "      <td>21</td>\n",
       "      <td>17</td>\n",
       "      <td>7.0</td>\n",
       "      <td>3</td>\n",
       "      <td>-6.0</td>\n",
       "      <td>-8</td>\n",
       "    </tr>\n",
       "    <tr>\n",
       "      <th>28</th>\n",
       "      <td>-5</td>\n",
       "      <td>NaN</td>\n",
       "      <td>5</td>\n",
       "      <td>14.0</td>\n",
       "      <td>16</td>\n",
       "      <td>21.0</td>\n",
       "      <td>22</td>\n",
       "      <td>17</td>\n",
       "      <td>7.0</td>\n",
       "      <td>4</td>\n",
       "      <td>-6.0</td>\n",
       "      <td>-6</td>\n",
       "    </tr>\n",
       "    <tr>\n",
       "      <th>29</th>\n",
       "      <td>-6</td>\n",
       "      <td>NaN</td>\n",
       "      <td>3</td>\n",
       "      <td>16.0</td>\n",
       "      <td>17</td>\n",
       "      <td>17.0</td>\n",
       "      <td>23</td>\n",
       "      <td>18</td>\n",
       "      <td>6.0</td>\n",
       "      <td>2</td>\n",
       "      <td>-4.0</td>\n",
       "      <td>-7</td>\n",
       "    </tr>\n",
       "    <tr>\n",
       "      <th>30</th>\n",
       "      <td>-7</td>\n",
       "      <td>NaN</td>\n",
       "      <td>3</td>\n",
       "      <td>NaN</td>\n",
       "      <td>17</td>\n",
       "      <td>NaN</td>\n",
       "      <td>21</td>\n",
       "      <td>17</td>\n",
       "      <td>NaN</td>\n",
       "      <td>1</td>\n",
       "      <td>NaN</td>\n",
       "      <td>-5</td>\n",
       "    </tr>\n",
       "  </tbody>\n",
       "</table>\n",
       "</div>"
      ],
      "text/plain": [
       "    janvier  février  mars  avril  mai  juin  juillet  août  septembre  \\\n",
       "0        -5     -7.0    -7    2.0   12  17.0       20    20       16.0   \n",
       "1        -6     -6.0    -8    3.0   14  16.0       20    19       14.0   \n",
       "2        -5     -5.0    -5    4.0   15  17.0       17    19       15.0   \n",
       "3        -3     -6.0    -3    6.0   16  14.0       18    18       13.0   \n",
       "4        -6     -8.0    -2    4.0   13  15.0       17    17       12.0   \n",
       "5       -11     -9.0     1    5.0   12  17.0       17    18       10.0   \n",
       "6        -6      5.0     2    4.0    8  17.0       16    16       12.0   \n",
       "7        -8    -11.0     1    6.0    7  15.0       17    17       11.0   \n",
       "8       -11    -12.0     1    7.0    6  14.0       17    15       11.0   \n",
       "9        -8     -9.0     2    7.0    5  15.0       15    14       12.0   \n",
       "10       -8     -6.0     1    8.0    5  14.0       15    14       10.0   \n",
       "11       -8     -5.0     3    8.0    6  13.0       16    15       10.0   \n",
       "12       -8     -4.0     5    9.0    8  11.0       16    15        9.0   \n",
       "13      -10      1.0     5   10.0   10  14.0       13    15        9.0   \n",
       "14      -10      3.0     7    8.0   12  15.0       14    17       10.0   \n",
       "15       -9     -9.0     3    8.0   13  15.0       14    18       11.0   \n",
       "16       -6     -6.0     2    9.0   14  15.0       15    19       10.0   \n",
       "17       -6     -6.0    -1   11.0   13  17.0       15    21       10.0   \n",
       "18       -4     -4.0    -2   10.0   15  16.0       15    24        9.0   \n",
       "19       -8      2.0    -1   11.0   15  19.0       17    21       11.0   \n",
       "20       -9      3.0     0   12.0   15  20.0       18    21       12.0   \n",
       "21      -14      1.0     1    9.0   18  19.0       19    26       12.0   \n",
       "22      -15     -3.0     2    7.0   18  20.0       21    17       10.0   \n",
       "23      -17     -4.0     3    8.0   16  22.0       24    18       11.0   \n",
       "24      -19     -6.0     4    8.0   15  22.0       23    17       10.0   \n",
       "25      -23     -8.0     3    6.0   16  21.0       26    17        9.0   \n",
       "26       -8     -8.0     4    9.0   16  22.0       26    16        6.0   \n",
       "27       -9    -11.0     5   11.0   17  21.0       21    17        7.0   \n",
       "28       -5      NaN     5   14.0   16  21.0       22    17        7.0   \n",
       "29       -6      NaN     3   16.0   17  17.0       23    18        6.0   \n",
       "30       -7      NaN     3    NaN   17   NaN       21    17        NaN   \n",
       "\n",
       "    octobre  novembre  décembre  \n",
       "0         6       0.0        -6  \n",
       "1         2       1.0        -4  \n",
       "2         3       2.0        -8  \n",
       "3         4       3.0        -9  \n",
       "4         3       4.0        -9  \n",
       "5         2       3.0        -9  \n",
       "6         4       4.0        -8  \n",
       "7         5       5.0        -4  \n",
       "8         3       5.0        -3  \n",
       "9         4      -1.0        -8  \n",
       "10        2      -2.0        -9  \n",
       "11        1      -1.0        -5  \n",
       "12        3      -7.0        -6  \n",
       "13        3      -8.0        -7  \n",
       "14        3      -5.0       -11  \n",
       "15        1      -3.0        -6  \n",
       "16        4      -2.0        -8  \n",
       "17        6       1.0       -11  \n",
       "18        6       2.0        -8  \n",
       "19        6       1.0        -8  \n",
       "20        7       0.0        -3  \n",
       "21        7       0.0        -6  \n",
       "22        6       1.0        -8  \n",
       "23        6       3.0        -9  \n",
       "24        6       5.0        -5  \n",
       "25        4      -2.0        -6  \n",
       "26        3      -3.0        -7  \n",
       "27        3      -6.0        -8  \n",
       "28        4      -6.0        -6  \n",
       "29        2      -4.0        -7  \n",
       "30        1       NaN        -5  "
      ]
     },
     "execution_count": 17,
     "metadata": {},
     "output_type": "execute_result"
    }
   ],
   "source": [
    "#récupération du fichier excel Climat\n",
    "excel_file = 'dataset/ClimatSI.csv.xlsx'\n",
    "df_climat = pd.read_excel(excel_file, sheet_name = 'SI ')\n",
    "df_climat"
   ]
  },
  {
   "cell_type": "code",
   "execution_count": 18,
   "metadata": {
    "colab": {
     "base_uri": "https://localhost:8080/"
    },
    "id": "q_LKjPu-5mji",
    "outputId": "7c5a597a-2551-4f0a-c069-a6d6cd51ccaf"
   },
   "outputs": [
    {
     "data": {
      "text/plain": [
       "janvier      -8.967742\n",
       "février      -4.928571\n",
       "mars          1.193548\n",
       "avril         8.000000\n",
       "mai          12.903226\n",
       "juin         17.033333\n",
       "juillet      18.322581\n",
       "août         17.838710\n",
       "septembre    10.500000\n",
       "octobre       3.870968\n",
       "novembre     -0.333333\n",
       "décembre     -7.000000\n",
       "dtype: float64"
      ]
     },
     "execution_count": 18,
     "metadata": {},
     "output_type": "execute_result"
    }
   ],
   "source": [
    "#moyenne par mois\n",
    "df_climat.mean()"
   ]
  },
  {
   "cell_type": "code",
   "execution_count": 19,
   "metadata": {
    "colab": {
     "base_uri": "https://localhost:8080/"
    },
    "id": "1hbwiW7IAvI_",
    "outputId": "8302babc-326b-4b34-a532-c5f0176fa729"
   },
   "outputs": [
    {
     "data": {
      "text/plain": [
       "janvier      4.490611\n",
       "février      4.561746\n",
       "mars         3.506369\n",
       "avril        3.151354\n",
       "mai          4.036127\n",
       "juin         3.011281\n",
       "juillet      3.571994\n",
       "août         2.696872\n",
       "septembre    2.330458\n",
       "octobre      1.802627\n",
       "novembre     3.717000\n",
       "décembre     2.065591\n",
       "dtype: float64"
      ]
     },
     "execution_count": 19,
     "metadata": {},
     "output_type": "execute_result"
    }
   ],
   "source": [
    "#écart type par mois\n",
    "df_climat.std()"
   ]
  },
  {
   "cell_type": "code",
   "execution_count": 20,
   "metadata": {
    "colab": {
     "base_uri": "https://localhost:8080/"
    },
    "id": "lZVbxaGMA4ma",
    "outputId": "94e78385-5353-47c1-b26c-63b4d4e67500"
   },
   "outputs": [
    {
     "name": "stdout",
     "output_type": "stream",
     "text": [
      "minimum par mois\n",
      "janvier     -23.0\n",
      "février     -12.0\n",
      "mars         -8.0\n",
      "avril         2.0\n",
      "mai           5.0\n",
      "juin         11.0\n",
      "juillet      13.0\n",
      "août         14.0\n",
      "septembre     6.0\n",
      "octobre       1.0\n",
      "novembre     -8.0\n",
      "décembre    -11.0\n",
      "dtype: float64\n",
      "\r\n",
      "maximum par mois\n",
      "janvier      -3.0\n",
      "février       5.0\n",
      "mars          7.0\n",
      "avril        16.0\n",
      "mai          18.0\n",
      "juin         22.0\n",
      "juillet      26.0\n",
      "août         26.0\n",
      "septembre    16.0\n",
      "octobre       7.0\n",
      "novembre      5.0\n",
      "décembre     -3.0\n",
      "dtype: float64\n"
     ]
    }
   ],
   "source": [
    "#min par mois\n",
    "print(\"minimum par mois\")\n",
    "print(df_climat.min())\n",
    "\n",
    "print(\"\\r\")\n",
    "\n",
    "#max par mois\n",
    "print(\"maximum par mois\")\n",
    "print(df_climat.max())"
   ]
  },
  {
   "cell_type": "code",
   "execution_count": 21,
   "metadata": {
    "colab": {
     "base_uri": "https://localhost:8080/"
    },
    "id": "5YQGpksYBQz0",
    "outputId": "628dfc36-dd6e-4b5a-b141-b3a5eff21eb8"
   },
   "outputs": [
    {
     "name": "stdout",
     "output_type": "stream",
     "text": [
      "Température minimale de l'année : -23.0\n",
      "Température maximale de l'année : 26.0\n"
     ]
    }
   ],
   "source": [
    "#min de l'année\n",
    "print(\"Température minimale de l'année :\", df_climat.min().min())\n",
    "\n",
    "#max de l'année\n",
    "print(\"Température maximale de l'année :\", df_climat.max().max())"
   ]
  },
  {
   "cell_type": "code",
   "execution_count": 22,
   "metadata": {
    "colab": {
     "base_uri": "https://localhost:8080/",
     "height": 329
    },
    "id": "EexQlUGXejVt",
    "outputId": "5f554ca4-1964-4693-d968-9a7b4f52348d"
   },
   "outputs": [
    {
     "data": {
      "application/vnd.jupyter.widget-view+json": {
       "model_id": "6aaefcaf2759477abb843777e2d83ea8",
       "version_major": 2,
       "version_minor": 0
      },
      "text/plain": [
       "Canvas(toolbar=Toolbar(toolitems=[('Home', 'Reset original view', 'home', 'home'), ('Back', 'Back to previous …"
      ]
     },
     "metadata": {},
     "output_type": "display_data"
    },
    {
     "data": {
      "text/plain": [
       "<matplotlib.legend.Legend at 0x239faf95e20>"
      ]
     },
     "execution_count": 22,
     "metadata": {},
     "output_type": "execute_result"
    }
   ],
   "source": [
    "#courbe par mois\n",
    "import matplotlib.pyplot as plt\n",
    "import numpy as np\n",
    "df_climat.plot();\n",
    "\n",
    "plt.xlabel('Jour de mois')\n",
    "plt.ylabel('Température')\n",
    "plt.title(\"Température par mois\")\n",
    "plt.legend()"
   ]
  },
  {
   "cell_type": "code",
   "execution_count": 36,
   "metadata": {
    "colab": {
     "base_uri": "https://localhost:8080/",
     "height": 609
    },
    "id": "YKIH5bgpBt3q",
    "outputId": "d2eab6a5-9e3e-4068-917e-730b0873c66f"
   },
   "outputs": [
    {
     "data": {
      "application/vnd.jupyter.widget-view+json": {
       "model_id": "673ca0cdd2b7447b9dc00262d6d5ea2c",
       "version_major": 2,
       "version_minor": 0
      },
      "text/plain": [
       "Canvas(toolbar=Toolbar(toolitems=[('Home', 'Reset original view', 'home', 'home'), ('Back', 'Back to previous …"
      ]
     },
     "metadata": {},
     "output_type": "display_data"
    },
    {
     "data": {
      "text/plain": [
       "<mplcursors._mplcursors.Cursor at 0x23990938a90>"
      ]
     },
     "execution_count": 36,
     "metadata": {},
     "output_type": "execute_result"
    }
   ],
   "source": [
    "#courbe pour l'année\n",
    "df = pd.DataFrame(data=df_climat.values.flatten(order='F'))\n",
    "df = df.dropna()\n",
    "df = df.reset_index(drop=True)\n",
    "df.plot(figsize=(10, 10),xticks=[0,31,59,90,120,151,181,212,243,273,304,334,365])\n",
    "\n",
    "plt.xlabel('Jour de l\\'année')\n",
    "plt.ylabel('Température')\n",
    "plt.title(\"Température sur l'année\")\n",
    "plt.legend()\n",
    "\n",
    "mplcursors.cursor()"
   ]
  },
  {
   "cell_type": "code",
   "execution_count": 37,
   "metadata": {},
   "outputs": [],
   "source": [
    "#récupération du fichier excel\n",
    "excel_file = 'dataset/ClimatSI2.csv.xlsx'\n",
    "df_climat_error = pd.read_excel(excel_file, sheet_name = 'SI -erreur')\n",
    "\n",
    "df_errors = pd.DataFrame(data=df_climat_error.values.flatten(order='F'))\n",
    "df_errors = df_errors.dropna()\n",
    "df_errors = df_errors.reset_index(drop=True)\n",
    "\n",
    "#récupère les cellules en erreurs et les transforme en string vide\n",
    "df_errors[df_errors[0].str.contains('[^-0-9\\/]+')==True] = ''\n",
    "\n",
    "#convertie la colonne en float\n",
    "df_errors[0] = pd.to_numeric(df_errors[0], downcast='float')\n",
    "\n",
    "#complète les cellules vides/NaN\n",
    "df_errors[0] = df_errors[0].interpolate(method='linear')\n"
   ]
  },
  {
   "cell_type": "code",
   "execution_count": 38,
   "metadata": {},
   "outputs": [
    {
     "data": {
      "application/vnd.jupyter.widget-view+json": {
       "model_id": "7a63101c9d9549b89e547bba9b9faaba",
       "version_major": 2,
       "version_minor": 0
      },
      "text/plain": [
       "Canvas(toolbar=Toolbar(toolitems=[('Home', 'Reset original view', 'home', 'home'), ('Back', 'Back to previous …"
      ]
     },
     "metadata": {},
     "output_type": "display_data"
    },
    {
     "data": {
      "text/plain": [
       "<mplcursors._mplcursors.Cursor at 0x23990a6d670>"
      ]
     },
     "execution_count": 38,
     "metadata": {},
     "output_type": "execute_result"
    }
   ],
   "source": [
    "#le graphe de l'année\n",
    "df_errors.plot(figsize=(10, 10),xticks=[0,31,59,90,120,151,181,212,243,273,304,334,365])\n",
    "\n",
    "plt.xlabel('Jour de l\\'année')\n",
    "plt.ylabel('Température')\n",
    "plt.title(\"Température par mois\")\n",
    "plt.legend()\n",
    "\n",
    "mplcursors.cursor()"
   ]
  },
  {
   "cell_type": "code",
   "execution_count": 26,
   "metadata": {},
   "outputs": [
    {
     "data": {
      "application/vnd.jupyter.widget-view+json": {
       "model_id": "80a9dfab7e3a402cb2449c8837e0c196",
       "version_major": 2,
       "version_minor": 0
      },
      "text/plain": [
       "Canvas(toolbar=Toolbar(toolitems=[('Home', 'Reset original view', 'home', 'home'), ('Back', 'Back to previous …"
      ]
     },
     "metadata": {},
     "output_type": "display_data"
    },
    {
     "data": {
      "text/plain": [
       "<mplcursors._mplcursors.Cursor at 0x239fee576a0>"
      ]
     },
     "execution_count": 26,
     "metadata": {},
     "output_type": "execute_result"
    }
   ],
   "source": [
    "#reject outliers\n",
    "df_errors = df_errors[abs(df_errors - np.mean(df_errors)) < 2 * np.std(df_errors)]\n",
    "df_errors[0] = df_errors[0].interpolate(method='linear')\n",
    "\n",
    "#le graphe de l'année\n",
    "df_errors.plot(figsize=(10, 10),xticks=[0,31,59,90,120,151,181,212,243,273,304,334,365])\n",
    "\n",
    "plt.xlabel('Jour de l\\'année')\n",
    "plt.ylabel('Température')\n",
    "plt.title(\"Température par mois\")\n",
    "plt.legend()\n",
    "\n",
    "mplcursors.cursor()"
   ]
  },
  {
   "cell_type": "code",
   "execution_count": 27,
   "metadata": {},
   "outputs": [
    {
     "data": {
      "application/vnd.jupyter.widget-view+json": {
       "model_id": "5a78422cc82a4493b04cb6b5c0687f79",
       "version_major": 2,
       "version_minor": 0
      },
      "text/plain": [
       "Canvas(toolbar=Toolbar(toolitems=[('Home', 'Reset original view', 'home', 'home'), ('Back', 'Back to previous …"
      ]
     },
     "metadata": {},
     "output_type": "display_data"
    },
    {
     "data": {
      "text/plain": [
       "<mplcursors._mplcursors.Cursor at 0x239fee0deb0>"
      ]
     },
     "execution_count": 27,
     "metadata": {},
     "output_type": "execute_result"
    }
   ],
   "source": [
    "#le graphe de l'année\n",
    "ax = df_errors.plot(figsize=(10, 10),xticks=[0,31,59,90,120,151,181,212,243,273,304,334,365])\n",
    "df.plot(figsize=(10, 10),xticks=[0,31,59,90,120,151,181,212,243,273,304,334,365], ax=ax)\n",
    "\n",
    "plt.xlabel('Jour de l\\'année')\n",
    "plt.ylabel('Température')\n",
    "plt.title(\"Température par mois\")\n",
    "plt.legend()\n",
    "\n",
    "plt.show()\n",
    "\n",
    "mplcursors.cursor()"
   ]
  },
  {
   "cell_type": "code",
   "execution_count": 28,
   "metadata": {
    "scrolled": false
   },
   "outputs": [
    {
     "name": "stderr",
     "output_type": "stream",
     "text": [
      "d:\\devapps\\lib\\site-packages\\openpyxl\\worksheet\\_reader.py:308: UserWarning: Unknown extension is not supported and will be removed\n",
      "  warn(msg)\n"
     ]
    },
    {
     "data": {
      "application/vnd.jupyter.widget-view+json": {
       "model_id": "f0a25b7014ea4ff381255e324fad1d1b",
       "version_major": 2,
       "version_minor": 0
      },
      "text/plain": [
       "Canvas(toolbar=Toolbar(toolitems=[('Home', 'Reset original view', 'home', 'home'), ('Back', 'Back to previous …"
      ]
     },
     "metadata": {},
     "output_type": "display_data"
    },
    {
     "data": {
      "text/plain": [
       "<mplcursors._mplcursors.Cursor at 0x239908fb670>"
      ]
     },
     "execution_count": 28,
     "metadata": {},
     "output_type": "execute_result"
    }
   ],
   "source": [
    "#récupération du fichier excel \n",
    "excel_file_savu = 'dataset/Savukoski kirkonkyla.xlsx'\n",
    "df_savu = pd.read_excel(excel_file_savu, sheet_name = 'Observation data')\n",
    "\n",
    "ax = df_savu.plot(figsize=(10, 10),xticks=[0,31,59,90,120,151,181,212,243,273,304,334,365], y=\"Air temperature (degC)\")\n",
    "df.plot(figsize=(10, 10),xticks=[0,31,59,90,120,151,181,212,243,273,304,334,365], ax=ax)\n",
    "\n",
    "\n",
    "plt.xlabel('Jour de l\\'année')\n",
    "plt.ylabel('Température')\n",
    "plt.title(\"Température par mois\")\n",
    "plt.legend()\n",
    "\n",
    "mplcursors.cursor()"
   ]
  },
  {
   "cell_type": "code",
   "execution_count": 128,
   "metadata": {
    "scrolled": true
   },
   "outputs": [
    {
     "name": "stdout",
     "output_type": "stream",
     "text": [
      "janvier : ['moscou']\n",
      "février : ['oslo']\n",
      "mars : ['prague']\n",
      "avril : ['moscou']\n",
      "mai : ['helsinki']\n",
      "juin : ['moscou']\n",
      "juillet : ['moscou']\n",
      "août : ['helsinki']\n",
      "septembre : ['oslo']\n",
      "octobre : ['oslo']\n",
      "novembre : ['moscou']\n",
      "décembre : ['moscou']\n"
     ]
    }
   ],
   "source": [
    "#récupération du fichier\n",
    "excel_file_prague = 'dataset/prague.xlsx'\n",
    "df_climat_prague = pd.read_excel(excel_file_prague)\n",
    "\n",
    "excel_file_helsinki = 'dataset/helsinki.xlsx'\n",
    "df_climat_helsinki = pd.read_excel(excel_file_helsinki)\n",
    "\n",
    "excel_file_oslo = 'dataset/oslo.xlsx'\n",
    "df_climat_oslo = pd.read_excel(excel_file_oslo)\n",
    "\n",
    "excel_file_moscou = 'dataset/moscou.xlsx'\n",
    "df_climat_moscou = pd.read_excel(excel_file_moscou)\n",
    "\n",
    "#mean\n",
    "full_mean_cities = pd.DataFrame(df_climat_prague.mean())\n",
    "full_mean_cities =  full_mean_cities.rename(columns={0: 'prague'})\n",
    "full_mean_cities['helsinki'] = pd.DataFrame(df_climat_helsinki.mean())\n",
    "full_mean_cities['oslo'] = pd.DataFrame(df_climat_oslo.mean())\n",
    "full_mean_cities['moscou'] = pd.DataFrame(df_climat_moscou.mean())\n",
    "\n",
    "df_climat_mean = pd.DataFrame(df_climat.mean())\n",
    "df_climat_mean_transposed = df_climat_mean.T\n",
    "full_mean_cities_transposed = full_mean_cities.T\n",
    "\n",
    "    \n",
    "def find_nearest(array, value):\n",
    "    array = np.asarray(array)\n",
    "    idx = (np.abs(array - value)).argmin()\n",
    "    return array[idx]\n",
    "\n",
    "nearest_mean_cities = []\n",
    "\n",
    "for i in full_mean_cities_transposed.columns:\n",
    "    value = find_nearest(full_mean_cities_transposed[i], df_climat_mean_transposed[i][0])\n",
    "    nearest = full_mean_cities_transposed[full_mean_cities_transposed[i] == value]\n",
    "    data_top = nearest.head()\n",
    "    nearest_city = list(data_top.index)   \n",
    "    print(i, ':', nearest_city)"
   ]
  },
  {
   "cell_type": "code",
   "execution_count": 129,
   "metadata": {},
   "outputs": [
    {
     "name": "stdout",
     "output_type": "stream",
     "text": [
      "janvier : ['helsinki']\n",
      "février : ['moscou']\n",
      "mars : ['oslo']\n",
      "avril : ['helsinki']\n",
      "mai : ['helsinki']\n",
      "juin : ['helsinki']\n",
      "juillet : ['helsinki']\n",
      "août : ['oslo']\n",
      "septembre : ['oslo']\n",
      "octobre : ['prague']\n",
      "novembre : ['helsinki']\n",
      "décembre : ['prague']\n"
     ]
    }
   ],
   "source": [
    "#écart type\n",
    "full_std_cities = pd.DataFrame(df_climat_prague.std())\n",
    "full_std_cities =  full_std_cities.rename(columns={0: 'prague'})\n",
    "full_std_cities['helsinki'] = pd.DataFrame(df_climat_helsinki.std())\n",
    "full_std_cities['oslo'] = pd.DataFrame(df_climat_oslo.std())\n",
    "full_std_cities['moscou'] = pd.DataFrame(df_climat_moscou.std())\n",
    "\n",
    "df_climat_std = pd.DataFrame(df_climat.std())\n",
    "df_climat_std_transposed = df_climat_std.T\n",
    "full_std_cities_transposed = full_std_cities.T\n",
    "\n",
    "nearest_std_cities = []\n",
    "\n",
    "for i in full_std_cities_transposed.columns:\n",
    "    value = find_nearest(full_std_cities_transposed[i], df_climat_std_transposed[i][0])\n",
    "    nearest = full_std_cities_transposed[full_std_cities_transposed[i] == value]\n",
    "    data_top = nearest.head()\n",
    "    nearest_city = list(data_top.index)   \n",
    "    print(i, ':', nearest_city)"
   ]
  },
  {
   "cell_type": "code",
   "execution_count": 117,
   "metadata": {},
   "outputs": [
    {
     "name": "stdout",
     "output_type": "stream",
     "text": [
      "Dtw Moscou :  42.38856123362514\n",
      "Dtw Helsinki :  47.435759028057085\n",
      "Dtw Prague :  72.63151120383691\n",
      "Dtw Oslo :  45.47805060047928\n"
     ]
    }
   ],
   "source": [
    "from dtaidistance import dtw\n",
    "import numpy as np\n",
    "\n",
    "df_moscou = pd.DataFrame(data=df_climat_moscou.values.flatten(order='F'))\n",
    "df_moscou = df_moscou.dropna()\n",
    "df_moscou = df_moscou.reset_index(drop=True)\n",
    "array_moscou = df_moscou[0].values\n",
    "\n",
    "df_helsinki = pd.DataFrame(data=df_climat_helsinki.values.flatten(order='F'))\n",
    "df_helsinki = df_helsinki.dropna()\n",
    "df_helsinki = df_helsinki.reset_index(drop=True)\n",
    "array_helsinki = df_helsinki[0].values\n",
    "\n",
    "df_prague = pd.DataFrame(data=df_climat_prague.values.flatten(order='F'))\n",
    "df_prague = df_prague.dropna()\n",
    "df_prague = df_prague.reset_index(drop=True)\n",
    "array_prague = df_prague[0].values\n",
    "\n",
    "df_oslo = pd.DataFrame(data=df_climat_oslo.values.flatten(order='F'))\n",
    "df_oslo = df_oslo.dropna()\n",
    "df_oslo = df_oslo.reset_index(drop=True)\n",
    "array_oslo = df_oslo[0].values\n",
    "\n",
    "array_climat = df[0].values\n",
    "\n",
    "d_helsi = dtw.distance_fast(array_climat, array_helsinki, use_pruning=True)\n",
    "d_moscou = dtw.distance_fast(array_climat, array_moscou, use_pruning=True)\n",
    "d_prague = dtw.distance_fast(array_climat, array_prague, use_pruning=True)\n",
    "d_oslo = dtw.distance_fast(array_climat, array_oslo, use_pruning=True)\n",
    "\n",
    "print('Dtw Moscou : ', d_moscou)\n",
    "print('Dtw Helsinki : ', d_helsi)\n",
    "print('Dtw Prague : ', d_prague)\n",
    "print('Dtw Oslo : ', d_oslo)"
   ]
  }
 ],
 "metadata": {
  "colab": {
   "collapsed_sections": [],
   "name": "TP1.ipynb",
   "provenance": []
  },
  "kernelspec": {
   "display_name": "Python 3",
   "language": "python",
   "name": "python3"
  },
  "language_info": {
   "codemirror_mode": {
    "name": "ipython",
    "version": 3
   },
   "file_extension": ".py",
   "mimetype": "text/x-python",
   "name": "python",
   "nbconvert_exporter": "python",
   "pygments_lexer": "ipython3",
   "version": "3.9.1"
  }
 },
 "nbformat": 4,
 "nbformat_minor": 1
}
